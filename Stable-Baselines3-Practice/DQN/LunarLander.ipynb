{
 "cells": [
  {
   "cell_type": "code",
   "execution_count": 3,
   "metadata": {
    "collapsed": true,
    "ExecuteTime": {
     "start_time": "2023-08-21T20:20:11.908764Z",
     "end_time": "2023-08-21T20:20:15.206280Z"
    }
   },
   "outputs": [],
   "source": [
    "import gym\n",
    "from stable_baselines3 import DQN\n",
    "from stable_baselines3.common.evaluation import evaluate_policy"
   ]
  },
  {
   "cell_type": "code",
   "execution_count": null,
   "outputs": [],
   "source": [
    "# Create environment\n",
    "env = gym.make(\"LunarLander-v2\")\n",
    "model = DQN(\n",
    "    \"MlpPolicy\",\n",
    "    env,\n",
    "    verbose=1,\n",
    "    learning_rate=5e-4,\n",
    "    policy_kwargs={'net_arch':[256,256]})\n",
    "\n",
    "model.learn(\n",
    "    total_timesteps=int(2.5e6),\n",
    "    progress_bar=True)\n",
    "\n",
    "model.save(\"dqn_Net256_lunar_2500K\")"
   ],
   "metadata": {
    "collapsed": false,
    "ExecuteTime": {
     "start_time": "2023-08-21T16:43:45.875226Z",
     "end_time": "2023-08-21T18:15:48.090664Z"
    }
   }
  },
  {
   "cell_type": "code",
   "execution_count": 7,
   "outputs": [
    {
     "name": "stdout",
     "output_type": "stream",
     "text": [
      "Wrapping the env with a `Monitor` wrapper\n",
      "Wrapping the env in a DummyVecEnv.\n",
      "238.70929199999995\n"
     ]
    }
   ],
   "source": [
    "# Create environment\n",
    "env = gym.make(\"LunarLander-v2\")\n",
    "model = DQN.load(\"dqn_Net256_lunar_2500K\", env=env)\n",
    "\n",
    "mean_reward, std_reward = evaluate_policy(\n",
    "    model,\n",
    "    model.get_env(),\n",
    "    deterministic=True,\n",
    "    render=True,\n",
    "    n_eval_episodes=10)\n",
    "print(mean_reward)\n",
    "env.close()"
   ],
   "metadata": {
    "collapsed": false,
    "ExecuteTime": {
     "start_time": "2023-08-21T20:12:10.237692Z",
     "end_time": "2023-08-21T20:14:12.484859Z"
    }
   }
  },
  {
   "cell_type": "code",
   "execution_count": null,
   "outputs": [],
   "source": [
    "env = gym.make(\"LunarLander-v2\", render_mode=\"human\")\n",
    "eposides = 10\n",
    "show_steps = 300\n",
    "for i in range(eposides):\n",
    "    observation = env.reset()[0]\n",
    "    done = False\n",
    "    j = 0\n",
    "    rewards = 0\n",
    "    while (not done) and (j <= show_steps):\n",
    "        env.render()\n",
    "        action, _ = model.predict(observation, deterministic=True)\n",
    "        observation_, reward, done, info, _ = env.step(action)\n",
    "        env.render()\n",
    "        observation = observation_\n",
    "        rewards += reward\n",
    "        j += 1\n",
    "    print(\"episode: \", i, \" score: \",rewards)\n",
    "env.close()"
   ],
   "metadata": {
    "collapsed": false,
    "ExecuteTime": {
     "start_time": "2023-08-21T20:17:32.953659Z",
     "end_time": "2023-08-21T20:19:03.947366Z"
    }
   }
  }
 ],
 "metadata": {
  "kernelspec": {
   "display_name": "Python 3",
   "language": "python",
   "name": "python3"
  },
  "language_info": {
   "codemirror_mode": {
    "name": "ipython",
    "version": 2
   },
   "file_extension": ".py",
   "mimetype": "text/x-python",
   "name": "python",
   "nbconvert_exporter": "python",
   "pygments_lexer": "ipython2",
   "version": "2.7.6"
  }
 },
 "nbformat": 4,
 "nbformat_minor": 0
}
